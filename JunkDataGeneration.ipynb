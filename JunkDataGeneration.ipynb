{
  "cells": [
    {
      "cell_type": "code",
      "source": [
        "!pip install faker"
      ],
      "metadata": {
        "colab": {
          "base_uri": "https://localhost:8080/"
        },
        "id": "QkVJKMimJ_XS",
        "outputId": "eb279cfc-2b12-412d-cfe9-4ffb62ea7273"
      },
      "id": "QkVJKMimJ_XS",
      "execution_count": null,
      "outputs": [
        {
          "output_type": "stream",
          "name": "stdout",
          "text": [
            "Looking in indexes: https://pypi.org/simple, https://us-python.pkg.dev/colab-wheels/public/simple/\n",
            "Requirement already satisfied: faker in /usr/local/lib/python3.10/dist-packages (18.11.1)\n",
            "Requirement already satisfied: python-dateutil>=2.4 in /usr/local/lib/python3.10/dist-packages (from faker) (2.8.2)\n",
            "Requirement already satisfied: six>=1.5 in /usr/local/lib/python3.10/dist-packages (from python-dateutil>=2.4->faker) (1.16.0)\n"
          ]
        }
      ]
    },
    {
      "cell_type": "code",
      "execution_count": null,
      "id": "108d2baf",
      "metadata": {
        "colab": {
          "base_uri": "https://localhost:8080/"
        },
        "id": "108d2baf",
        "outputId": "b5d57da9-2b55-4bdc-8132-facaff6aef26"
      },
      "outputs": [
        {
          "output_type": "stream",
          "name": "stdout",
          "text": [
            "Usuarios generados\n"
          ]
        }
      ],
      "source": [
        "# generate fake user. ready\n",
        "import faker\n",
        "import random\n",
        "import string\n",
        "import json\n",
        "from urllib.parse import quote\n",
        "\n",
        "fake = faker.Faker()\n",
        "\n",
        "def generate_user_from_json(json_data, record_number):\n",
        "    user_data = json_data[0]\n",
        "    name = fake.first_name()\n",
        "    last_name = fake.last_name()\n",
        "    email = f\"{name.lower()}.{last_name.lower()}@epn.edu.ec\"\n",
        "    ci = str(fake.random_number(digits=10))\n",
        "    password = user_data['password']\n",
        "    oid_suffix = str(record_number % 1000).zfill(3)  # Incrementing last three characters\n",
        "    oid = ''.join(random.choices(string.ascii_letters + string.digits, k=21)) + oid_suffix\n",
        "    fake_user = {\n",
        "        'name': name,\n",
        "        'last_name': last_name,\n",
        "        'email': email,\n",
        "        'ci': ci,\n",
        "        'password': password,\n",
        "        '__v': user_data['__v']\n",
        "    }\n",
        "    return fake_user\n",
        "\n",
        "def generate_multiple_users(json_data, num_users):\n",
        "    users = []\n",
        "    for i in range(num_users):\n",
        "        user = generate_user_from_json(json_data, i)  # Pass record_number as argument\n",
        "        users.append(user)\n",
        "    return users\n",
        "\n",
        "data = [{\n",
        "  \"_id\": {\n",
        "    \"$oid\": \"6441f7f16752f3f76e59d847\"\n",
        "  },\n",
        "  \"name\": \"Ricardo\",\n",
        "  \"lastName\": \"Caiza\",\n",
        "  \"email\": \"boris.caiza@epn.edu.ec\",\n",
        "  \"ci\": \"1755185749\",\n",
        "  \"password\": \"$2a$10$Wjgmribm4uSscnikqSqgVe0PVXBhbc3w/wMsokQrHEQjspEry6992\",\n",
        "  \"__v\": 0\n",
        "}]\n",
        "\n",
        "# Generate multiple users, change 10 for more user\n",
        "fake_users = generate_multiple_users(data, 10)\n",
        "\n",
        "# Save users to a JSON file\n",
        "filename = \"generated_users.json\"\n",
        "with open(filename, \"w\") as file:\n",
        "    json.dump(fake_users, file, indent=4)\n",
        "\n",
        "# Download the JSON file\n",
        "encoded_filename = quote(filename)\n",
        "print(\"Usuarios generados\")\n"
      ]
    },
    {
      "cell_type": "code",
      "execution_count": null,
      "id": "34c87b19",
      "metadata": {
        "colab": {
          "base_uri": "https://localhost:8080/"
        },
        "id": "34c87b19",
        "outputId": "e9af198b-1d40-4807-f5d9-2b3f566c4933"
      },
      "outputs": [
        {
          "output_type": "stream",
          "name": "stdout",
          "text": [
            "Registros generados\n"
          ]
        }
      ],
      "source": [
        "# generate register ready\n",
        "import json\n",
        "import random\n",
        "import string\n",
        "import hashlib\n",
        "from datetime import datetime, timedelta\n",
        "from faker import Faker\n",
        "\n",
        "fake = Faker()\n",
        "\n",
        "def generate_hash(data):\n",
        "    return hashlib.sha256(data.encode()).hexdigest()\n",
        "\n",
        "def generate_records():\n",
        "    with open(\"generated_users.json\") as users_file:\n",
        "        generated_users = json.load(users_file)\n",
        "\n",
        "    records = []\n",
        "    previous_hash_main = None\n",
        "    previous_hash_enterprise = None\n",
        "\n",
        "    # change range for more records\n",
        "    for i in range(500000):\n",
        "        record = {\n",
        "            \"hashMain\": \"\",\n",
        "            \"hashEnterprise\": \"\",\n",
        "            \"previousHashMain\": previous_hash_main,\n",
        "            \"previousHashEnterprise\": previous_hash_enterprise,\n",
        "            \"heigh\": i,\n",
        "            \"heighEnterprise\": i,\n",
        "            \"body\": {},\n",
        "            \"body_enterprise\": {},\n",
        "            \"data\": [\n",
        "                {\n",
        "                    \"tipo\": \"name\",\n",
        "                    \"valor\": \"31411c9d875f66037e129d1f289590ed:2e8829410d2cff52cd839d4013ce3044\",\n",
        "                    \"_id\": {\n",
        "                        \"$oid\": \"6441f86d6752f3f76e59d8a2\"\n",
        "                    }\n",
        "                },\n",
        "                {\n",
        "                    \"tipo\": \"lastName\",\n",
        "                    \"valor\": \"314589597c7ce6069c4cd832066835a7:92952f3beeaaa00cb6efe1c5e02c8175\",\n",
        "                    \"_id\": {\n",
        "                        \"$oid\": \"6441f86d6752f3f76e59d8a3\"\n",
        "                    }\n",
        "                },\n",
        "                {\n",
        "                    \"tipo\": \"ci\",\n",
        "                    \"valor\": \"02520b8dabaa0c96647a4046d4d717d3:6e7f4b2c82f6c931ab67cfe747b69a0c\",\n",
        "                    \"_id\": {\n",
        "                        \"$oid\": \"6441f86d6752f3f76e59d8a4\"\n",
        "                    }\n",
        "                }\n",
        "            ],\n",
        "            \"permisos\": [\n",
        "                {\n",
        "                    \"tipo\": \"Marketing\",\n",
        "                    \"valor\": True,\n",
        "                    \"descripcion\": \"Prueba\",\n",
        "                    \"data\": [\"name\", \"lastName\", \"ci\"],\n",
        "                    \"_id\": {\n",
        "                        \"$oid\": \"6441f8616752f3f76e59d882\"\n",
        "                    }\n",
        "                }\n",
        "            ],\n",
        "            \"fechaModificacion\": \"\",\n",
        "            \"fechaFinConsentimeinto\": \"\",\n",
        "            \"enterpriseId\": {\n",
        "                        \"$oid\": \"6485f0c798de66abb85f451a\"\n",
        "                    },\n",
        "            \"__v\": 0\n",
        "        }\n",
        "\n",
        "        # Generate random dates\n",
        "        start_date = datetime(2023, 1, 1)\n",
        "        end_date = datetime(2025, 1, 1)\n",
        "\n",
        "        fecha_modificacion = start_date + timedelta(seconds=random.randint(0, int((end_date - start_date).total_seconds())))\n",
        "        fecha_fin_consentimiento = start_date.date() + timedelta(days=random.randint(0, (end_date.date() - start_date.date()).days))\n",
        "\n",
        "        record[\"fechaModificacion\"] = fecha_modificacion.strftime(\"%m/%d/%Y, %I:%M:%S %p\")\n",
        "        record[\"fechaFinConsentimeinto\"] = fecha_fin_consentimiento.strftime(\"%d/%m/%Y\")\n",
        "\n",
        "        # Convert record to JSON strings\n",
        "        record[\"body\"] = json.dumps(record)\n",
        "        record[\"body_enterprise\"] = json.dumps(record)\n",
        "\n",
        "        # Generate hashes\n",
        "        record[\"hashMain\"] = generate_hash(record[\"body\"])\n",
        "        record[\"hashEnterprise\"] = generate_hash(record[\"body_enterprise\"])\n",
        "\n",
        "        previous_hash_main = record[\"hashMain\"]\n",
        "        previous_hash_enterprise = record[\"hashEnterprise\"]\n",
        "\n",
        "        records.append(record)\n",
        "\n",
        "    # Save records to a JSON file\n",
        "    filename = \"generated_records.json\"\n",
        "    with open(filename, \"w\") as file:\n",
        "        json.dump(records, file, indent=4)\n",
        "\n",
        "    return filename\n",
        "\n",
        "filename = generate_records()\n",
        "print(\"Registros generados\")\n"
      ]
    },
    {
      "cell_type": "code",
      "execution_count": null,
      "id": "6cafc57d",
      "metadata": {
        "id": "6cafc57d"
      },
      "outputs": [],
      "source": []
    }
  ],
  "metadata": {
    "kernelspec": {
      "display_name": "Python 3 (ipykernel)",
      "language": "python",
      "name": "python3"
    },
    "language_info": {
      "codemirror_mode": {
        "name": "ipython",
        "version": 3
      },
      "file_extension": ".py",
      "mimetype": "text/x-python",
      "name": "python",
      "nbconvert_exporter": "python",
      "pygments_lexer": "ipython3",
      "version": "3.9.13"
    },
    "colab": {
      "provenance": []
    }
  },
  "nbformat": 4,
  "nbformat_minor": 5
}